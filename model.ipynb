{
  "nbformat": 4,
  "nbformat_minor": 0,
  "metadata": {
    "colab": {
      "name": "model.ipynb",
      "provenance": [],
      "collapsed_sections": [],
      "authorship_tag": "ABX9TyO7+Fw4EdY5GpETWzApuUyU"
    },
    "kernelspec": {
      "name": "python3",
      "display_name": "Python 3"
    }
  },
  "cells": [
    {
      "cell_type": "markdown",
      "metadata": {
        "id": "p339XkHVp2ST",
        "colab_type": "text"
      },
      "source": [
        "# Titanic competition\n",
        "Data from: https://www.kaggle.com/c/titanic/data"
      ]
    },
    {
      "cell_type": "code",
      "metadata": {
        "id": "cGJbVzoQlWjD",
        "colab_type": "code",
        "colab": {}
      },
      "source": [
        "import pandas as pd\n",
        "import numpy as np\n",
        "from sklearn.metrics import accuracy_score\n",
        "from sklearn.model_selection import train_test_split\n",
        "from sklearn.linear_model import LogisticRegression"
      ],
      "execution_count": 0,
      "outputs": []
    },
    {
      "cell_type": "code",
      "metadata": {
        "id": "50-7HIOomLnd",
        "colab_type": "code",
        "colab": {}
      },
      "source": [
        "# Importing data\n",
        "X = pd.read_csv('data/train.csv')\n",
        "X_predictions_orig = pd.read_csv('data/test.csv')\n",
        "X_predictions = pd.read_csv('data/test.csv')\n",
        "# Ground truth\n",
        "Y = X['Survived']\n",
        "\n",
        "# Changing string of sex to int\n",
        "X['Sex'] = pd.Categorical(pd.factorize(X.Sex)[0] + 1)\n",
        "X_predictions['Sex'] = pd.Categorical(pd.factorize(X_predictions.Sex)[0] + 1)\n",
        "\n",
        "# Handling missing values\n",
        "X['Age'] = X['Age'].fillna(0.0)\n",
        "X_predictions['Age'] = X_predictions['Age'].fillna(0.0)\n",
        "X_predictions['Fare'] = X_predictions['Fare'].fillna(0.0)"
      ],
      "execution_count": 0,
      "outputs": []
    },
    {
      "cell_type": "code",
      "metadata": {
        "id": "n_w3KMOEmcqk",
        "colab_type": "code",
        "colab": {}
      },
      "source": [
        "#Eliminating some features, the number of the ticket and the embarcation port\n",
        "#isn't necessary, I also drop the cabin, I'll handle the missing values later\n",
        "X = np.array(X.drop(labels=['Name','Ticket', 'Embarked', 'Cabin', 'Survived', 'PassengerId'], axis=1))\n",
        "X_predictions = np.array(X_predictions.drop(labels=['Name', 'Ticket', 'Embarked', 'Cabin', 'PassengerId'], axis=1))"
      ],
      "execution_count": 0,
      "outputs": []
    },
    {
      "cell_type": "code",
      "metadata": {
        "id": "uAJ0Z-5Dhtrj",
        "colab_type": "code",
        "colab": {}
      },
      "source": [
        "# Spliting between testing and train from X, used for troubleshooting submissions\n",
        "#X_train, X_test, Y_train, Y_test = train_test_split(X, Y, test_size=0.3, random_state=0)"
      ],
      "execution_count": 0,
      "outputs": []
    },
    {
      "cell_type": "code",
      "metadata": {
        "id": "0sHFNRRg3VLE",
        "colab_type": "code",
        "colab": {
          "base_uri": "https://localhost:8080/",
          "height": 102
        },
        "outputId": "bacf3aa5-a5e2-488a-e2a6-610dda191b3c"
      },
      "source": [
        "# Training\n",
        "classifier = LogisticRegression(max_iter=10000, C=1)\n",
        "classifier.fit(X, Y)"
      ],
      "execution_count": 166,
      "outputs": [
        {
          "output_type": "execute_result",
          "data": {
            "text/plain": [
              "LogisticRegression(C=1, class_weight=None, dual=False, fit_intercept=True,\n",
              "                   intercept_scaling=1, l1_ratio=None, max_iter=10000,\n",
              "                   multi_class='auto', n_jobs=None, penalty='l2',\n",
              "                   random_state=None, solver='lbfgs', tol=0.0001, verbose=0,\n",
              "                   warm_start=False)"
            ]
          },
          "metadata": {
            "tags": []
          },
          "execution_count": 166
        }
      ]
    },
    {
      "cell_type": "code",
      "metadata": {
        "id": "Y953_e_l3XnJ",
        "colab_type": "code",
        "colab": {}
      },
      "source": [
        "# Predict labels for test set\n",
        "predictions = classifier.predict(X_predictions)\n",
        "output = pd.DataFrame({'PassengerId': X_predictions_orig.PassengerId, 'Survived': predictions})\n",
        "output.to_csv('predictions.csv', index=False)"
      ],
      "execution_count": 0,
      "outputs": []
    }
  ]
}